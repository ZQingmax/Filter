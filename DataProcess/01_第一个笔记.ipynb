{
 "cells": [
  {
   "cell_type": "code",
   "execution_count": 2,
   "id": "b2a17150",
   "metadata": {},
   "outputs": [
    {
     "name": "stdout",
     "output_type": "stream",
     "text": [
      "aaaaa\n",
      "2025\n"
     ]
    }
   ],
   "source": [
    "print('a' * 5)\n",
    "print(2025)"
   ]
  },
  {
   "cell_type": "markdown",
   "id": "3d42c5b4",
   "metadata": {},
   "source": [
    "变量的赋值"
   ]
  },
  {
   "cell_type": "code",
   "execution_count": 3,
   "id": "bd5b3601",
   "metadata": {},
   "outputs": [
    {
     "name": "stdout",
     "output_type": "stream",
     "text": [
      "100\n"
     ]
    }
   ],
   "source": [
    "a = 10\n",
    "print(a * 10)"
   ]
  },
  {
   "cell_type": "markdown",
   "id": "2759a45f",
   "metadata": {},
   "source": [
    "# 一、ndarray\n",
    "## 1.ndarray的特性\n",
    "### 多维性"
   ]
  },
  {
   "cell_type": "code",
   "execution_count": 3,
   "id": "c9e05c9f",
   "metadata": {},
   "outputs": [
    {
     "name": "stdout",
     "output_type": "stream",
     "text": [
      "arr的维度： 0\n",
      "5\n"
     ]
    }
   ],
   "source": [
    "import numpy as np\n",
    "arr = np.array(5) #0维\n",
    "print('arr的维度：',arr.ndim)\n",
    "print(arr)"
   ]
  },
  {
   "cell_type": "code",
   "execution_count": 5,
   "id": "54e8d572",
   "metadata": {},
   "outputs": [
    {
     "name": "stdout",
     "output_type": "stream",
     "text": [
      "arr的维度： 1\n",
      "[1 2 3 4]\n"
     ]
    }
   ],
   "source": [
    "arr1 = np.array([1,2,3,4])\n",
    "print('arr的维度：',arr1.ndim)\n",
    "print(arr1)"
   ]
  },
  {
   "cell_type": "code",
   "execution_count": 9,
   "id": "a87be676",
   "metadata": {},
   "outputs": [
    {
     "name": "stdout",
     "output_type": "stream",
     "text": [
      "arr的维度： 2\n",
      "[[1 2 3 4]\n",
      " [5 6 7 8]]\n",
      "(2, 4) 8 int32\n",
      "[[1 5]\n",
      " [2 6]\n",
      " [3 7]\n",
      " [4 8]]\n"
     ]
    }
   ],
   "source": [
    "arr2 = np.array([[1,2,3,4],[5,6,7,8]])\n",
    "print('arr的维度：',arr2.ndim)\n",
    "print(arr2)\n",
    "print(arr2.shape,arr2.size,arr2.dtype)  #形状，元素，类型\n",
    "print(arr2.T)  #转置"
   ]
  },
  {
   "cell_type": "markdown",
   "id": "dc7e0f20",
   "metadata": {},
   "source": [
    "## 2.ndarray的创建"
   ]
  },
  {
   "cell_type": "code",
   "execution_count": 11,
   "id": "cc84cc3c",
   "metadata": {},
   "outputs": [
    {
     "name": "stdout",
     "output_type": "stream",
     "text": [
      "[1. 2. 3. 4.]\n",
      "[1. 2. 3. 4.]\n"
     ]
    }
   ],
   "source": [
    "list1 = [1,2,3,4]\n",
    "arr = np.array(list1,dtype=np.float64) #强制类型转换\n",
    "print(arr)\n",
    "arr1 = np.copy(arr)\n",
    "print(arr1)"
   ]
  },
  {
   "cell_type": "markdown",
   "id": "e54a1a27",
   "metadata": {},
   "source": [
    "### 预定义数组，全0，全1，未初始化"
   ]
  },
  {
   "cell_type": "code",
   "execution_count": 18,
   "id": "c2e3700f",
   "metadata": {},
   "outputs": [
    {
     "name": "stdout",
     "output_type": "stream",
     "text": [
      "[[0 0 0 0]\n",
      " [0 0 0 0]]\n",
      "------------------\n",
      "[[1 1 1 1 1]\n",
      " [1 1 1 1 1]\n",
      " [1 1 1 1 1]\n",
      " [1 1 1 1 1]\n",
      " [1 1 1 1 1]]\n",
      "------------------\n",
      "[[0. 0.]\n",
      " [0. 0.]]\n",
      "------------------\n",
      "[[2025 2025 2025 2025]\n",
      " [2025 2025 2025 2025]\n",
      " [2025 2025 2025 2025]]\n"
     ]
    }
   ],
   "source": [
    "arr = np.zeros((2,4),dtype=int)\n",
    "print(arr)\n",
    "print('------------------')\n",
    "arr = np.ones((5,5),dtype=int)\n",
    "print(arr)\n",
    "print('------------------')\n",
    "arr = np.empty((2,2))\n",
    "print(arr)\n",
    "print('------------------')\n",
    "arr = np.full((3,4),2025)\n",
    "print(arr)\n"
   ]
  },
  {
   "cell_type": "markdown",
   "id": "3bb0c4a8",
   "metadata": {},
   "source": [
    "## 3.等差数列"
   ]
  },
  {
   "cell_type": "code",
   "execution_count": 28,
   "id": "07e23c32",
   "metadata": {},
   "outputs": [
    {
     "name": "stdout",
     "output_type": "stream",
     "text": [
      "[2 4 6 8]\n",
      "[ 0.   2.5  5.   7.5 10. ]\n",
      "[ 1  4 16]\n"
     ]
    }
   ],
   "source": [
    "arr = np.arange(2,10,2)  # start,end,step\n",
    "print(arr)\n",
    "#等间隔数列\n",
    "arr = np.linspace(0,10,5)  #分割几份\n",
    "print(arr)\n",
    "#对数间隔\n",
    "arr = np.logspace(0,4,3,dtype=int,base=2)\n",
    "print(arr)"
   ]
  },
  {
   "cell_type": "markdown",
   "id": "ffc6df56",
   "metadata": {},
   "source": [
    "## 特殊矩阵"
   ]
  },
  {
   "cell_type": "code",
   "execution_count": 29,
   "id": "91c2730d",
   "metadata": {},
   "outputs": [
    {
     "name": "stdout",
     "output_type": "stream",
     "text": [
      "[[1 0 0 0]\n",
      " [0 1 0 0]\n",
      " [0 0 1 0]\n",
      " [0 0 0 1]]\n",
      "[[1 0 0 0]\n",
      " [0 2 0 0]\n",
      " [0 0 3 0]\n",
      " [0 0 0 4]]\n"
     ]
    }
   ],
   "source": [
    "arr = np.eye(4,dtype=int)\n",
    "print(arr)\n",
    "arr = np.diag([1,2,3,4])\n",
    "print(arr)"
   ]
  },
  {
   "cell_type": "code",
   "execution_count": null,
   "id": "9a73812b",
   "metadata": {},
   "outputs": [
    {
     "name": "stdout",
     "output_type": "stream",
     "text": [
      "[[9 5 1]\n",
      " [3 6 6]\n",
      " [1 9 2]]\n",
      "[[2 1 4]\n",
      " [9 9 5]\n",
      " [5 1 4]]\n",
      "[[68 55 65]\n",
      " [90 63 66]\n",
      " [93 84 57]]\n"
     ]
    }
   ],
   "source": [
    "#生成0-1随机\n",
    "arr = np.random.rand(2,3)\n",
    "#生成浮点数\n",
    "arr = np.random.uniform(3,10,(2,3))\n",
    "#生成随机整数\n",
    "arr = np.random.randint(1,100,(3,3))\n",
    "\n",
    "#正太分布\n",
    "arr = np.random.randn(2,4)\n",
    "\n",
    "#随机种子\n",
    "# np.random.seed(0)\n",
    "arr1 = np.random.randint(1,10,(3,3))\n",
    "print(arr1)\n",
    "arr2 = np.random.randint(1,10,(3,3))\n",
    "print(arr2)\n",
    "print(arr1 @ arr2)  #矩阵乘法"
   ]
  }
 ],
 "metadata": {
  "kernelspec": {
   "display_name": "Python 3",
   "language": "python",
   "name": "python3"
  },
  "language_info": {
   "codemirror_mode": {
    "name": "ipython",
    "version": 3
   },
   "file_extension": ".py",
   "mimetype": "text/x-python",
   "name": "python",
   "nbconvert_exporter": "python",
   "pygments_lexer": "ipython3",
   "version": "3.11.3"
  }
 },
 "nbformat": 4,
 "nbformat_minor": 5
}

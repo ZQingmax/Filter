{
 "cells": [
  {
   "cell_type": "code",
   "execution_count": null,
   "id": "6efcdb29",
   "metadata": {},
   "outputs": [
    {
     "name": "stdout",
     "output_type": "stream",
     "text": [
      "0    1\n",
      "1    2\n",
      "2    3\n",
      "3    4\n",
      "4    5\n",
      "dtype: int64\n",
      "a    1\n",
      "b    2\n",
      "c    3\n",
      "d    4\n",
      "e    5\n",
      "dtype: int64\n",
      "A    1\n",
      "B    2\n",
      "C    3\n",
      "D    4\n",
      "E    5\n",
      "Name: 排名, dtype: int64\n"
     ]
    }
   ],
   "source": [
    "import pandas as pd\n",
    "s = pd.Series([1,2,3,4,5])\n",
    "print(s)\n",
    "s = pd.Series([1,2,3,4,5],index=['a','b','c','d','e'])\n",
    "print(s)\n",
    "#可以通过字典创建\n",
    "s = pd.Series({'A':1,'B':2,'C':3,'D':4,'E':5},name='排名')\n",
    "print(s)"
   ]
  },
  {
   "cell_type": "code",
   "execution_count": 28,
   "id": "a921b5e9",
   "metadata": {},
   "outputs": [
    {
     "data": {
      "text/plain": [
       "count     5.000000\n",
       "mean      4.571975\n",
       "std       3.230476\n",
       "min       2.000000\n",
       "25%       2.718282\n",
       "50%       3.141593\n",
       "75%       5.000000\n",
       "max      10.000000\n",
       "Name: data, dtype: float64"
      ]
     },
     "execution_count": 28,
     "metadata": {},
     "output_type": "execute_result"
    }
   ],
   "source": [
    "import numpy as np\n",
    "s = pd.Series([10,2,np.nan,None,5,np.exp(1),np.pi],index=['a','b','c','d','e','f','g'],name='data')\n",
    "s.head(3)\n",
    "s.describe()"
   ]
  },
  {
   "cell_type": "code",
   "execution_count": 17,
   "id": "377caabe",
   "metadata": {},
   "outputs": [
    {
     "name": "stdout",
     "output_type": "stream",
     "text": [
      "Index(['a', 'b', 'c', 'd', 'e', 'f', 'g'], dtype='object')\n",
      "[10.          2.                 nan         nan  5.          2.71828183\n",
      "  3.14159265]\n",
      "Index(['a', 'b', 'c', 'd', 'e', 'f', 'g'], dtype='object')\n"
     ]
    },
    {
     "data": {
      "text/plain": [
       "a    False\n",
       "b    False\n",
       "c     True\n",
       "d     True\n",
       "e    False\n",
       "f    False\n",
       "g    False\n",
       "Name: data, dtype: bool"
      ]
     },
     "execution_count": 17,
     "metadata": {},
     "output_type": "execute_result"
    }
   ],
   "source": [
    "print(s.keys())\n",
    "print(s.values)\n",
    "print(s.index)\n",
    "s.isna()"
   ]
  },
  {
   "cell_type": "code",
   "execution_count": 22,
   "id": "bd3a863b",
   "metadata": {},
   "outputs": [
    {
     "name": "stdout",
     "output_type": "stream",
     "text": [
      "学生1     88\n",
      "学生2     78\n",
      "学生3     64\n",
      "学生4     92\n",
      "学生5     57\n",
      "学生6     70\n",
      "学生7     88\n",
      "学生8     68\n",
      "学生9     72\n",
      "学生10    60\n",
      "Name: 成绩, dtype: int32\n",
      "平均分：73.70\n",
      "最高分： 92\n",
      "最低分： 57\n",
      "高于平均分的人数： 4\n",
      "从高到低排序: [92 88 88 78 72 70 68 64 60 57]\n"
     ]
    }
   ],
   "source": [
    "#统计学生成绩案例\n",
    "np.random.seed(42)\n",
    "scores = pd.Series(np.random.randint(50,101,size=10),index=[f'学生{i+1}' for i in range(10)],name='成绩')\n",
    "\n",
    "print(scores)\n",
    "print('平均分：%.2f'%scores.mean())  \n",
    "print('最高分：',scores.max())\n",
    "print('最低分：',scores.min())\n",
    "print('高于平均分的人数：',scores[scores>scores.mean()].count())\n",
    "print('从高到低排序:',scores.sort_values(ascending=False).values)\n"
   ]
  },
  {
   "cell_type": "code",
   "execution_count": 26,
   "id": "98153cb8",
   "metadata": {},
   "outputs": [
    {
     "name": "stdout",
     "output_type": "stream",
     "text": [
      "每日收益率：\n",
      " 2023-01-01         NaN\n",
      "2023-01-02    0.011730\n",
      "2023-01-03    0.015459\n",
      "2023-01-04   -0.002854\n",
      "2023-01-05    0.013359\n",
      "2023-01-06    0.007533\n",
      "2023-01-07   -0.004673\n",
      "2023-01-08    0.015023\n",
      "2023-01-09    0.011101\n",
      "2023-01-10    0.008234\n",
      "Freq: D, Name: 股价, dtype: float64\n",
      "收益率最高的日期： 2023-01-03 00:00:00 收益率：1.55%\n",
      "收益率最低的日期： 2023-01-07 00:00:00 收益率：-0.47%\n",
      "收益率的波动率：0.74%\n"
     ]
    }
   ],
   "source": [
    "#股票价格分析\n",
    "#股票连续十个交易日的收盘价\n",
    "prices = pd.Series([102.3,103.5,105.1,104.8,106.2,107.0,106.5,108.1,109.3,110.2],index=pd.date_range('2023-01-01',periods=10),name='股价')\n",
    "#计算每日收益率(今日收盘价/昨日收盘价-1)\n",
    "returns = prices.pct_change()\n",
    "print('每日收益率：\\n',returns)\n",
    "#收益率最高和最低的日期\n",
    "print('收益率最高的日期：',returns.idxmax(),'收益率：%.2f%%'%(returns.max()*100))\n",
    "print('收益率最低的日期：',returns.idxmin(),'收益率：%.2f%%'%(returns.min()*100))\n",
    "#计算波动率(收益率的标准差)\n",
    "print('收益率的波动率：%.2f%%'%(returns.std()*100))"
   ]
  }
 ],
 "metadata": {
  "kernelspec": {
   "display_name": "Python 3",
   "language": "python",
   "name": "python3"
  },
  "language_info": {
   "codemirror_mode": {
    "name": "ipython",
    "version": 3
   },
   "file_extension": ".py",
   "mimetype": "text/x-python",
   "name": "python",
   "nbconvert_exporter": "python",
   "pygments_lexer": "ipython3",
   "version": "3.11.3"
  }
 },
 "nbformat": 4,
 "nbformat_minor": 5
}
